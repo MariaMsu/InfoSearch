{
 "cells": [
  {
   "cell_type": "markdown",
   "metadata": {},
   "source": [
    "# Черепнина Мария\n",
    "## Проверка гипотез"
   ]
  },
  {
   "cell_type": "code",
   "execution_count": 1,
   "metadata": {},
   "outputs": [],
   "source": [
    "import numpy as np\n",
    "import math"
   ]
  },
  {
   "cell_type": "markdown",
   "metadata": {},
   "source": [
    "Выбираем гиперпарамептры:"
   ]
  },
  {
   "cell_type": "code",
   "execution_count": 2,
   "metadata": {},
   "outputs": [],
   "source": [
    "session_set_size = 100\n",
    "t_threshold = 1.96\n",
    "N_ASL_samples = 1000\n",
    "ASL_sample_size = 100"
   ]
  },
  {
   "cell_type": "markdown",
   "metadata": {},
   "source": [
    "Загружаем данные сплитов:"
   ]
  },
  {
   "cell_type": "code",
   "execution_count": 3,
   "metadata": {},
   "outputs": [],
   "source": [
    "def load_data(path, line_length=10):\n",
    "    data = []\n",
    "    with open(path) as file:\n",
    "        for line in file:\n",
    "            data += [np.array([int(i) for i in line[:-1].split(' ')], dtype=int)]\n",
    "    return np.array(data)\n",
    "    \n",
    "split_1 = load_data(\"c1.txt\")\n",
    "split_2 = load_data(\"c2.txt\")"
   ]
  },
  {
   "cell_type": "markdown",
   "metadata": {},
   "source": [
    "Считаем CTR (Click-through rate) - отношение числа кликов к числу показов:"
   ]
  },
  {
   "cell_type": "code",
   "execution_count": 4,
   "metadata": {},
   "outputs": [],
   "source": [
    "def get_CTR(data):\n",
    "    CTR = np.empty(data.shape[0] // session_set_size)\n",
    "    for i in range(CTR.size):\n",
    "        click = np.sum(data[i * session_set_size: (i + 1) * session_set_size], axis=1)\n",
    "        CTR[i] = np.count_nonzero(click != 0)  / session_set_size\n",
    "    return CTR\n",
    "\n",
    "CTR_1 = get_CTR(split_1)\n",
    "CTR_2 = get_CTR(split_2)"
   ]
  },
  {
   "cell_type": "markdown",
   "metadata": {},
   "source": [
    "Счиатем среднее кол-во кликов:"
   ]
  },
  {
   "cell_type": "code",
   "execution_count": 5,
   "metadata": {},
   "outputs": [],
   "source": [
    "def get_AC(data):\n",
    "    AC = np.empty(data.shape[0] // session_set_size)\n",
    "    for i in range(AC.size):\n",
    "        click_count = np.sum(data[i * session_set_size: (i + 1) * session_set_size], axis=1)\n",
    "        AC[i] = np.sum(click_count) / session_set_size\n",
    "    return AC\n",
    "\n",
    "AC_1 = get_AC(split_1)\n",
    "AC_2 = get_AC(split_2)"
   ]
  },
  {
   "cell_type": "markdown",
   "metadata": {},
   "source": [
    "Считаем ASL (achieved significance level):"
   ]
  },
  {
   "cell_type": "code",
   "execution_count": 6,
   "metadata": {},
   "outputs": [
    {
     "name": "stdout",
     "output_type": "stream",
     "text": [
      "CTR ASL: 1.0\n",
      "AC ASL: 1.0\n"
     ]
    }
   ],
   "source": [
    "def get_ASL(metric_1, metric_2):\n",
    "    count = 0\n",
    "    idx = range(metric_1.size)\n",
    "    for i in range(N_ASL_samples):\n",
    "        samples_idx = np.random.choice(idx, size=ASL_sample_size, replace=True)\n",
    "        mean_1, mean_2 = np.mean(metric_1[samples_idx]), np.mean(metric_2[samples_idx])\n",
    "        variance_1, variance_2 = np.var(metric_1[samples_idx], ddof=1), np.var(metric_2[samples_idx], ddof=1)\n",
    "        t = (mean_1 - mean_2) / math.sqrt((variance_1 + variance_2) / N_ASL_samples)\n",
    "        count += t > t_threshold\n",
    "    return count / N_ASL_samples\n",
    "\n",
    "print(\"CTR ASL: {}\".format(get_ASL(CTR_1, CTR_2)))\n",
    "print(\"AC ASL: {}\".format(get_ASL(AC_1, AC_2)))"
   ]
  },
  {
   "cell_type": "markdown",
   "metadata": {},
   "source": [
    "CTR ASL ≈ 1.0 => гипотеза H_0: CTR на двух сплитах можно объяснить шумами - неверна.\n",
    "\n",
    "AC ASL ≈ 1.0 => гипотеза H_0: AC на двух сплитах можно объяснить шумами - неверна."
   ]
  },
  {
   "cell_type": "code",
   "execution_count": null,
   "metadata": {},
   "outputs": [],
   "source": []
  }
 ],
 "metadata": {
  "kernelspec": {
   "display_name": "Python 3",
   "language": "python",
   "name": "python3"
  },
  "language_info": {
   "codemirror_mode": {
    "name": "ipython",
    "version": 3
   },
   "file_extension": ".py",
   "mimetype": "text/x-python",
   "name": "python",
   "nbconvert_exporter": "python",
   "pygments_lexer": "ipython3",
   "version": "3.7.3"
  }
 },
 "nbformat": 4,
 "nbformat_minor": 2
}
